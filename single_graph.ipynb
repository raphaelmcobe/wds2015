{
 "cells": [
  {
   "cell_type": "markdown",
   "metadata": {},
   "source": [
    "Load NetCDF data"
   ]
  },
  {
   "cell_type": "code",
   "execution_count": 88,
   "metadata": {
    "collapsed": false
   },
   "outputs": [
    {
     "data": {
      "application/javascript": [
       "\n",
       "           window.chart_data_temp=[{\"date\": \"2015-10-15\", \"u\": 34.96739721298218, \"l\": 25.873175144195557, \"value\": 30.420286178588867}, {\"date\": \"2015-10-16\", \"u\": 35.23344135284424, \"l\": 26.28056240081787, \"value\": 30.757001876831055}, {\"date\": \"2015-10-17\", \"u\": 35.441715717315674, \"l\": 27.063769817352295, \"value\": 31.252742767333984}, {\"date\": \"2015-10-18\", \"u\": 34.586228132247925, \"l\": 27.011672258377075, \"value\": 30.7989501953125}, {\"date\": \"2015-10-19\", \"u\": 28.694313049316406, \"l\": 25.35785675048828, \"value\": 27.026084899902344}, {\"date\": \"2015-10-20\", \"u\": 31.747791290283203, \"l\": 23.67986297607422, \"value\": 27.71382713317871}, {\"date\": \"2015-10-21\", \"u\": 32.569738149642944, \"l\": 25.374162912368774, \"value\": 28.97195053100586}, {\"date\": \"2015-10-22\", \"u\": 35.71827554702759, \"l\": 25.292863368988037, \"value\": 30.505569458007812}, {\"date\": \"2015-10-23\", \"u\": 35.804738998413086, \"l\": 26.55731773376465, \"value\": 31.181028366088867}, {\"date\": \"2015-10-24\", \"u\": 34.04081058502197, \"l\": 26.824145317077637, \"value\": 30.432477951049805}, {\"date\": \"2015-10-25\", \"u\": 28.5053049325943, \"l\": 25.469373106956482, \"value\": 26.98733901977539}, {\"date\": \"2015-10-26\", \"u\": 32.089065074920654, \"l\": 25.07872438430786, \"value\": 28.583894729614258}, {\"date\": \"2015-10-27\", \"u\": 33.03795886039734, \"l\": 25.89119839668274, \"value\": 29.46457862854004}, {\"date\": \"2015-10-28\", \"u\": 29.312172889709473, \"l\": 25.0001859664917, \"value\": 27.156179428100586}, {\"date\": \"2015-10-29\", \"u\": 27.737725377082825, \"l\": 24.774081110954285, \"value\": 26.255903244018555}, {\"date\": \"2015-10-30\", \"u\": 33.20062875747681, \"l\": 24.71392583847046, \"value\": 28.957277297973633}, {\"date\": \"2015-10-31\", \"u\": 35.22078084945679, \"l\": 25.97530221939087, \"value\": 30.598041534423828}, {\"date\": \"2015-11-01\", \"u\": 32.87840127944946, \"l\": 26.24273443222046, \"value\": 29.56056785583496}, {\"date\": \"2015-11-02\", \"u\": 31.98278260231018, \"l\": 26.086297750473022, \"value\": 29.0345401763916}, {\"date\": \"2015-11-03\", \"u\": 29.818049430847168, \"l\": 25.577046394348145, \"value\": 27.697547912597656}, {\"date\": \"2015-11-04\", \"u\": 30.63429856300354, \"l\": 24.866636037826538, \"value\": 27.75046730041504}, {\"date\": \"2015-11-05\", \"u\": 31.331809759140015, \"l\": 24.735248804092407, \"value\": 28.03352928161621}, {\"date\": \"2015-11-06\", \"u\": 26.043893575668335, \"l\": 24.971277475357056, \"value\": 25.507585525512695}, {\"date\": \"2015-11-07\", \"u\": 29.337355852127075, \"l\": 24.102814435958862, \"value\": 26.72008514404297}, {\"date\": \"2015-11-08\", \"u\": 32.82767057418823, \"l\": 24.466381549835205, \"value\": 28.64702606201172}, {\"date\": \"2015-11-09\", \"u\": 29.91957712173462, \"l\": 26.09521245956421, \"value\": 28.007394790649414}, {\"date\": \"2015-11-10\", \"u\": 33.01484489440918, \"l\": 24.840791702270508, \"value\": 28.927818298339844}, {\"date\": \"2015-11-11\", \"u\": 29.66380763053894, \"l\": 25.276374101638794, \"value\": 27.470090866088867}, {\"date\": \"2015-11-12\", \"u\": 32.028390884399414, \"l\": 24.54243278503418, \"value\": 28.285411834716797}, {\"date\": \"2015-11-13\", \"u\": 33.25340032577515, \"l\": 25.533838748931885, \"value\": 29.393619537353516}, {\"date\": \"2015-11-14\", \"u\": 31.898107528686523, \"l\": 25.56407356262207, \"value\": 28.731090545654297}, {\"date\": \"2015-11-15\", \"u\": 33.054688692092896, \"l\": 25.678324460983276, \"value\": 29.366506576538086}];\n",
       "           window.chart_data_rh=[{\"date\": \"2015-10-15\", \"u\": 95.531982421875, \"l\": 51.472808837890625, \"value\": 73.50239562988281}, {\"date\": \"2015-10-16\", \"u\": 94.49202156066895, \"l\": 48.06036186218262, \"value\": 71.27619171142578}, {\"date\": \"2015-10-17\", \"u\": 88.40703201293945, \"l\": 48.1169548034668, \"value\": 68.26199340820312}, {\"date\": \"2015-10-18\", \"u\": 94.02888107299805, \"l\": 51.57986831665039, \"value\": 72.80437469482422}, {\"date\": \"2015-10-19\", \"u\": 94.44838905334473, \"l\": 84.66921043395996, \"value\": 89.55879974365234}, {\"date\": \"2015-10-20\", \"u\": 101.48528099060059, \"l\": 68.45285987854004, \"value\": 84.96907043457031}, {\"date\": \"2015-10-21\", \"u\": 100.12728881835938, \"l\": 66.57194519042969, \"value\": 83.34961700439453}, {\"date\": \"2015-10-22\", \"u\": 98.8558120727539, \"l\": 48.03363800048828, \"value\": 73.4447250366211}, {\"date\": \"2015-10-23\", \"u\": 91.26739883422852, \"l\": 50.068965911865234, \"value\": 70.66818237304688}, {\"date\": \"2015-10-24\", \"u\": 94.34104919433594, \"l\": 55.41728210449219, \"value\": 74.87916564941406}, {\"date\": \"2015-10-25\", \"u\": 96.58925008773804, \"l\": 85.34644937515259, \"value\": 90.96784973144531}, {\"date\": \"2015-10-26\", \"u\": 99.71510887145996, \"l\": 70.88752174377441, \"value\": 85.30131530761719}, {\"date\": \"2015-10-27\", \"u\": 98.66855812072754, \"l\": 63.086233139038086, \"value\": 80.87739562988281}, {\"date\": \"2015-10-28\", \"u\": 98.05078411102295, \"l\": 78.40800189971924, \"value\": 88.2293930053711}, {\"date\": \"2015-10-29\", \"u\": 99.87509250640869, \"l\": 82.14401149749756, \"value\": 91.00955200195312}, {\"date\": \"2015-10-30\", \"u\": 100.23653411865234, \"l\": 57.56531524658203, \"value\": 78.90092468261719}, {\"date\": \"2015-10-31\", \"u\": 96.72132301330566, \"l\": 47.2544002532959, \"value\": 71.98786163330078}, {\"date\": \"2015-11-01\", \"u\": 91.41530799865723, \"l\": 63.531057357788086, \"value\": 77.47318267822266}, {\"date\": \"2015-11-02\", \"u\": 95.2366304397583, \"l\": 67.53923320770264, \"value\": 81.38793182373047}, {\"date\": \"2015-11-03\", \"u\": 98.1039924621582, \"l\": 79.63853073120117, \"value\": 88.87126159667969}, {\"date\": \"2015-11-04\", \"u\": 102.17073345184326, \"l\": 75.21998310089111, \"value\": 88.69535827636719}, {\"date\": \"2015-11-05\", \"u\": 100.91619396209717, \"l\": 69.37172412872314, \"value\": 85.14395904541016}, {\"date\": \"2015-11-06\", \"u\": 98.50497162342072, \"l\": 96.1004513502121, \"value\": 97.3027114868164}, {\"date\": \"2015-11-07\", \"u\": 101.2509765625, \"l\": 79.27857971191406, \"value\": 90.26477813720703}, {\"date\": \"2015-11-08\", \"u\": 101.55269432067871, \"l\": 65.84502601623535, \"value\": 83.69886016845703}, {\"date\": \"2015-11-09\", \"u\": 97.7752103805542, \"l\": 79.77670001983643, \"value\": 88.77595520019531}, {\"date\": \"2015-11-10\", \"u\": 100.63378715515137, \"l\": 67.34196662902832, \"value\": 83.98787689208984}, {\"date\": \"2015-11-11\", \"u\": 96.3266248703003, \"l\": 80.38843250274658, \"value\": 88.35752868652344}, {\"date\": \"2015-11-12\", \"u\": 101.20305442810059, \"l\": 68.35845375061035, \"value\": 84.78075408935547}, {\"date\": \"2015-11-13\", \"u\": 100.28634834289551, \"l\": 63.121198654174805, \"value\": 81.70377349853516}, {\"date\": \"2015-11-14\", \"u\": 96.39057445526123, \"l\": 67.07298755645752, \"value\": 81.73178100585938}, {\"date\": \"2015-11-15\", \"u\": 100.02660369873047, \"l\": 63.445838928222656, \"value\": 81.73622131347656}];\n",
       "           window.chart_data_precip=[{\"date\": \"2015-10-15\", \"u\": 0.011092442757217214, \"l\": -0.010296609514625743, \"value\": 0.00039791662129573524}, {\"date\": \"2015-10-16\", \"u\": 0.43944259732961655, \"l\": -0.4078439846634865, \"value\": 0.015799306333065033}, {\"date\": \"2015-10-17\", \"u\": 0.13240722008049488, \"l\": -0.12289333157241344, \"value\": 0.004756944254040718}, {\"date\": \"2015-10-18\", \"u\": 0.00028358508825476747, \"l\": -0.00025302953326900024, \"value\": 1.5277777492883615e-05}, {\"date\": \"2015-10-19\", \"u\": 3.7702570259571075, \"l\": -3.196909874677658, \"value\": 0.28667357563972473}, {\"date\": \"2015-10-20\", \"u\": 0.0010540214752836619, \"l\": -0.0009790214789973106, \"value\": 3.749999814317562e-05}, {\"date\": \"2015-10-21\", \"u\": 0.19288530386984348, \"l\": -0.1477950271219015, \"value\": 0.022545138373970985}, {\"date\": \"2015-10-22\", \"u\": 0.3001713212579489, \"l\": -0.2785699311643839, \"value\": 0.010800695046782494}, {\"date\": \"2015-10-23\", \"u\": 0.1332751833833754, \"l\": -0.12038212781772017, \"value\": 0.006446527782827616}, {\"date\": \"2015-10-24\", \"u\": 0.001663571732933633, \"l\": -0.001512182832811959, \"value\": 7.569445006083697e-05}, {\"date\": \"2015-10-25\", \"u\": 10.282933831214905, \"l\": -7.101553320884705, \"value\": 1.5906902551651}, {\"date\": \"2015-10-26\", \"u\": 0.05899942945688963, \"l\": -0.050284151919186115, \"value\": 0.004357638768851757}, {\"date\": \"2015-10-27\", \"u\": 0.6353301331400871, \"l\": -0.5319176390767097, \"value\": 0.05170624703168869}, {\"date\": \"2015-10-28\", \"u\": 0.18651337455958128, \"l\": -0.15905504394322634, \"value\": 0.013729165308177471}, {\"date\": \"2015-10-29\", \"u\": 0.20831319503486156, \"l\": -0.15090486593544483, \"value\": 0.028704164549708366}, {\"date\": \"2015-10-30\", \"u\": 1.2780287899076939, \"l\": -1.1866537891328335, \"value\": 0.04568750038743019}, {\"date\": \"2015-10-31\", \"u\": 0.8901147544384003, \"l\": -0.8236230909824371, \"value\": 0.03324583172798157}, {\"date\": \"2015-11-01\", \"u\": 0.004989454071619548, \"l\": -0.0045158429857110605, \"value\": 0.00023680554295424372}, {\"date\": \"2015-11-02\", \"u\": 0.00714649586006999, \"l\": -0.006118718069046736, \"value\": 0.0005138888955116272}, {\"date\": \"2015-11-03\", \"u\": 2.853850871324539, \"l\": -2.2779397666454315, \"value\": 0.28795555233955383}, {\"date\": \"2015-11-04\", \"u\": 0.4563724547624588, \"l\": -0.32833634316921234, \"value\": 0.06401805579662323}, {\"date\": \"2015-11-05\", \"u\": 0.4083045795559883, \"l\": -0.3557337448000908, \"value\": 0.02628541737794876}, {\"date\": \"2015-11-06\", \"u\": 4.6793622970581055, \"l\": -2.541494369506836, \"value\": 1.0689339637756348}, {\"date\": \"2015-11-07\", \"u\": 0.10373367927968502, \"l\": -0.08804340101778507, \"value\": 0.007845139130949974}, {\"date\": \"2015-11-08\", \"u\": 0.45927082374691963, \"l\": -0.4221666567027569, \"value\": 0.018552083522081375}, {\"date\": \"2015-11-09\", \"u\": 0.6559171192348003, \"l\": -0.5950087793171406, \"value\": 0.03045416995882988}, {\"date\": \"2015-11-10\", \"u\": 0.008016695792321116, \"l\": -0.007015306910034269, \"value\": 0.0005006944411434233}, {\"date\": \"2015-11-11\", \"u\": 2.2537880688905716, \"l\": -1.8103269785642624, \"value\": 0.2217305451631546}, {\"date\": \"2015-11-12\", \"u\": 0.12250984646379948, \"l\": -0.11266679130494595, \"value\": 0.0049215275794267654}, {\"date\": \"2015-11-13\", \"u\": 0.018747764348518103, \"l\": -0.01699220883892849, \"value\": 0.0008777777547948062}, {\"date\": \"2015-11-14\", \"u\": 0.10277497209608555, \"l\": -0.08206941746175289, \"value\": 0.010352777317166328}, {\"date\": \"2015-11-15\", \"u\": 0.00031302850220527034, \"l\": -0.0002824729472195031, \"value\": 1.5277777492883615e-05}];\n",
       "           "
      ],
      "text/plain": [
       "<IPython.core.display.Javascript object>"
      ]
     },
     "execution_count": 88,
     "metadata": {},
     "output_type": "execute_result"
    }
   ],
   "source": [
    "from netCDF4 import Dataset\n",
    "from datetime import datetime\n",
    "import glob\n",
    "import os\n",
    "import numpy as np\n",
    "import json\n",
    "\n",
    "DATA_HOME = \"./data/\"\n",
    "def NetCDFtoJSON(variable=\"temp_mean\", \n",
    "    start_date=\"20140101\", end_date=\"20140131\"):\n",
    "\n",
    "    \"\"\" This function receives a time frame and produces a json version of\n",
    "    the data stored at the netcdf repository.  \"\"\"\n",
    "\n",
    "    data_home = DATA_HOME\n",
    "\n",
    "    start_date = datetime.strptime(start_date, \"%Y%m%d\").date()\n",
    "\n",
    "    end_date = datetime.strptime(end_date, \"%Y%m%d\").date()\n",
    "\n",
    "    data_files = glob.glob(\"%s/*.cdf\" %(data_home))\n",
    "    filtered_data = []\n",
    "    for file_name in data_files:\n",
    "        file_name = os.path.abspath(file_name)\n",
    "        file_date = datetime.strptime(\n",
    "            file_name.split('.')[2],\"%Y%m%d\").date()\n",
    "        if file_date >= start_date and file_date <= end_date:\n",
    "            file_obj = Dataset(file_name)\n",
    "            date_value = {}\n",
    "            variable_value_daily_mean = np.mean(file_obj.variables[variable][:])\n",
    "            variable_value_daily_std = np.std(file_obj.variables[variable][:])\n",
    "            date_value[\"date\"] = file_date.isoformat()\n",
    "            mean_value = np.asscalar(variable_value_daily_mean)\n",
    "            lower_std = mean_value - np.asscalar(variable_value_daily_std)\n",
    "            upper_std = mean_value + np.asscalar(variable_value_daily_std)\n",
    "            if mean_value == 0 :\n",
    "                mean_value = None\n",
    "                upper_std = None\n",
    "                lower_std = None\n",
    "            date_value[\"value\"] = mean_value\n",
    "            date_value[\"l\"] = lower_std\n",
    "            date_value[\"u\"] = upper_std\n",
    "            filtered_data.append(date_value)\n",
    "\n",
    "    return json.dumps(filtered_data)\n",
    "\n",
    "import json\n",
    "from IPython.display import Javascript\n",
    "#runs arbitrary javascript, client-side\n",
    "\n",
    "start_time = \"20151015\"\n",
    "end_time = \"20151115\"\n",
    "\n",
    "Javascript(\"\"\"\n",
    "           window.chart_data_temp={0};\n",
    "           window.chart_data_rh={1};\n",
    "           window.chart_data_precip={2};\n",
    "           \"\"\".format(NetCDFtoJSON(\"temp_mean\", start_time, end_time),\n",
    "                      NetCDFtoJSON(\"rh_mean\", start_time, end_time),\n",
    "                      NetCDFtoJSON(\"org_precip_rate_mean\", start_time, end_time)))"
   ]
  },
  {
   "cell_type": "markdown",
   "metadata": {},
   "source": [
    "Load JS libraries (and CSS)"
   ]
  },
  {
   "cell_type": "code",
   "execution_count": 89,
   "metadata": {
    "collapsed": false
   },
   "outputs": [
    {
     "data": {
      "application/javascript": [
       "require.config({\n",
       "  paths: {\n",
       "      d3: '//cdnjs.cloudflare.com/ajax/libs/d3/3.4.8/d3.min',\n",
       "      mg: '//www.ncc.unesp.br/~winckler/metrics-graphics-2.7.0/dist/metricsgraphics.min',\n",
       "      scatter: '//www.ncc.unesp.br/~winckler/metrics-graphics-2.7.0/dist/scatter'\n",
       "  }\n",
       "});\n",
       "\n",
       "$('head').append('<link rel=\"stylesheet\" type=\"text/css\" href=\"css/metricsgraphics.css\">');\n",
       "$('head').append('<link rel=\"stylesheet\" type=\"text/css\" href=\"css/scatter-matrix.css\">');"
      ],
      "text/plain": [
       "<IPython.core.display.Javascript object>"
      ]
     },
     "metadata": {},
     "output_type": "display_data"
    }
   ],
   "source": [
    "%%javascript\n",
    "require.config({\n",
    "  paths: {\n",
    "      d3: '//cdnjs.cloudflare.com/ajax/libs/d3/3.4.8/d3.min',\n",
    "      mg: '//www.ncc.unesp.br/~winckler/metrics-graphics-2.7.0/dist/metricsgraphics.min',\n",
    "      scatter: '//www.ncc.unesp.br/~winckler/metrics-graphics-2.7.0/dist/scatter'\n",
    "  }\n",
    "});\n",
    "\n",
    "$('head').append('<link rel=\"stylesheet\" type=\"text/css\" href=\"css/metricsgraphics.css\">');\n",
    "$('head').append('<link rel=\"stylesheet\" type=\"text/css\" href=\"css/scatter-matrix.css\">');"
   ]
  },
  {
   "cell_type": "code",
   "execution_count": 90,
   "metadata": {
    "collapsed": false
   },
   "outputs": [
    {
     "data": {
      "application/javascript": [
       "require(['d3', 'mg'], function(d3){\n",
       "\n",
       "  $(\".graph\").remove();\n",
       "  element.append(\"<div id='chart_temp' class='graph' style='float: left'></div>\");\n",
       "  element.append(\"<div id='chart_rh' class='graph' style='float: left'></div>\");\n",
       "  element.append(\"<div id='chart_precip' class='graph' style='float: left'></div>\");\n",
       "  element.append(\"<div id='chart_break' style='float: none; display: block; clear: both;'></div>\");\n",
       "  element.append(\"<div id='chart_scatter' class='graph' style=''></div>\");\n",
       "  $(\".graph\").width(\"480px\");\n",
       "  $(\".graph\").height(\"300px\");\n",
       "  $('#chart_scatter').width(\"945px\").height(\"730px\");\n",
       "\n",
       "  window.mg_data_temp = MG.convert.date(chart_data_temp, 'date');\n",
       "  window.mg_data_rh = MG.convert.date(chart_data_rh, 'date');\n",
       "  window.mg_data_precip = MG.convert.date(chart_data_precip, 'date');\n",
       "\n",
       "  function draw_graph(div, data, title) {\n",
       "      MG.data_graphic({\n",
       "        animate_on_load: true,\n",
       "        title: title,\n",
       "        description: \"This is a simple line chart.\",\n",
       "        data: data,\n",
       "        width: 480,\n",
       "        height: 300,\n",
       "        right: 40,\n",
       "        target: div,\n",
       "        x_accessor: 'date',\n",
       "        y_accessor: 'value',\n",
       "        min_y_from_data: true,\n",
       "        show_secondary_x_label: false,\n",
       "        show_confidence_band: ['l', 'u'],\n",
       "        area: false,\n",
       "        linked: true,\n",
       "        missing_is_hidden: true,\n",
       "    });\n",
       "  }\n",
       "   \n",
       "    draw_graph($('#chart_temp')[0], window.mg_data_temp, \"Temperature (C)\");\n",
       "    draw_graph($('#chart_rh')[0], window.mg_data_rh, \"Relative Humidity (%)\");\n",
       "    draw_graph($('#chart_precip')[0], window.mg_data_precip, \"Preciptation (mm/hour)\");\n",
       "    \n",
       "    // scatter\n",
       "    require(['scatter'], function(){\n",
       "        window.d3=d3;\n",
       "        var scatter_data=[];\n",
       "        for (var i in chart_data_temp) {\n",
       "            scatter_data = scatter_data.concat({temp: chart_data_temp[i].value,\n",
       "                                                rh: chart_data_rh[i].value,\n",
       "                                                precip: chart_data_precip[i].value});\n",
       "        }\n",
       "        \n",
       "        var sm = new ScatterMatrix(scatter_data, 'chart_scatter');\n",
       "        sm.render();\n",
       "        //$('.scatter-matrix-control').hide();\n",
       "        //$('.scatter-matrix-svg').width(\"600px\").height(\"600px\");\n",
       "        \n",
       "    });\n",
       "    \n",
       "})"
      ],
      "text/plain": [
       "<IPython.core.display.Javascript object>"
      ]
     },
     "metadata": {},
     "output_type": "display_data"
    }
   ],
   "source": [
    "%%javascript\n",
    "require(['d3', 'mg'], function(d3){\n",
    "\n",
    "  $(\".graph\").remove();\n",
    "  element.append(\"<div id='chart_temp' class='graph' style='float: left'></div>\");\n",
    "  element.append(\"<div id='chart_rh' class='graph' style='float: left'></div>\");\n",
    "  element.append(\"<div id='chart_precip' class='graph' style='float: left'></div>\");\n",
    "  element.append(\"<div id='chart_break' style='float: none; display: block; clear: both;'></div>\");\n",
    "  element.append(\"<div id='chart_scatter' class='graph' style=''></div>\");\n",
    "  $(\".graph\").width(\"480px\");\n",
    "  $(\".graph\").height(\"300px\");\n",
    "  $('#chart_scatter').width(\"945px\").height(\"730px\");\n",
    "\n",
    "  window.mg_data_temp = MG.convert.date(chart_data_temp, 'date');\n",
    "  window.mg_data_rh = MG.convert.date(chart_data_rh, 'date');\n",
    "  window.mg_data_precip = MG.convert.date(chart_data_precip, 'date');\n",
    "\n",
    "  function draw_graph(div, data, title) {\n",
    "      MG.data_graphic({\n",
    "        animate_on_load: true,\n",
    "        title: title,\n",
    "        description: \"This is a simple line chart.\",\n",
    "        data: data,\n",
    "        width: 480,\n",
    "        height: 300,\n",
    "        right: 40,\n",
    "        target: div,\n",
    "        x_accessor: 'date',\n",
    "        y_accessor: 'value',\n",
    "        min_y_from_data: true,\n",
    "        show_secondary_x_label: false,\n",
    "        show_confidence_band: ['l', 'u'],\n",
    "        area: false,\n",
    "        linked: true,\n",
    "        missing_is_hidden: true,\n",
    "    });\n",
    "  }\n",
    "   \n",
    "    draw_graph($('#chart_temp')[0], window.mg_data_temp, \"Temperature (C)\");\n",
    "    draw_graph($('#chart_rh')[0], window.mg_data_rh, \"Relative Humidity (%)\");\n",
    "    draw_graph($('#chart_precip')[0], window.mg_data_precip, \"Preciptation (mm/hour)\");\n",
    "    \n",
    "    // scatter\n",
    "    require(['scatter'], function(){\n",
    "        window.d3=d3;\n",
    "        var scatter_data=[];\n",
    "        for (var i in chart_data_temp) {\n",
    "            scatter_data = scatter_data.concat({temp: chart_data_temp[i].value,\n",
    "                                                rh: chart_data_rh[i].value,\n",
    "                                                precip: chart_data_precip[i].value});\n",
    "        }\n",
    "        \n",
    "        var sm = new ScatterMatrix(scatter_data, 'chart_scatter');\n",
    "        sm.render();\n",
    "        $('.scatter-matrix-control').css('float', 'right');\n",
    "        \n",
    "    });\n",
    "    \n",
    "})\n"
   ]
  },
  {
   "cell_type": "code",
   "execution_count": null,
   "metadata": {
    "collapsed": false
   },
   "outputs": [],
   "source": []
  },
  {
   "cell_type": "code",
   "execution_count": null,
   "metadata": {
    "collapsed": true
   },
   "outputs": [],
   "source": []
  }
 ],
 "metadata": {
  "kernelspec": {
   "display_name": "Python 2",
   "language": "python",
   "name": "python2"
  },
  "language_info": {
   "codemirror_mode": {
    "name": "ipython",
    "version": 2
   },
   "file_extension": ".py",
   "mimetype": "text/x-python",
   "name": "python",
   "nbconvert_exporter": "python",
   "pygments_lexer": "ipython2",
   "version": "2.7.10"
  }
 },
 "nbformat": 4,
 "nbformat_minor": 0
}
