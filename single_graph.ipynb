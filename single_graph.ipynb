{
 "cells": [
  {
   "cell_type": "markdown",
   "metadata": {},
   "source": [
    "Load Fake Data"
   ]
  },
  {
   "cell_type": "code",
   "execution_count": 7,
   "metadata": {
    "collapsed": false
   },
   "outputs": [
    {
     "data": {
      "application/javascript": [
       "\n",
       "           window.chart_data=[{\"date\": \"2014-01-01\", \"value\": 190000000}, {\"date\": \"2014-01-02\", \"value\": 190379978}, {\"date\": \"2014-01-03\", \"value\": 90493749}, {\"date\": \"2014-01-04\", \"value\": 190785250}, {\"date\": \"2014-01-05\", \"value\": 197391904}, {\"date\": \"2014-01-06\", \"value\": 191576838}, {\"date\": \"2014-01-07\", \"value\": 191413854}, {\"date\": \"2014-01-08\", \"value\": 142177211}, {\"date\": \"2014-01-09\", \"value\": 103762210}, {\"date\": \"2014-01-10\", \"value\": 144381072}, {\"date\": \"2014-01-11\", \"value\": 154352310}, {\"date\": \"2014-01-12\", \"value\": 165531790}, {\"date\": \"2014-01-13\", \"value\": 175748881}, {\"date\": \"2014-01-14\", \"value\": 187064037}, {\"date\": \"2014-01-15\", \"value\": 197520685}, {\"date\": \"2014-01-16\", \"value\": 210176418}, {\"date\": \"2014-01-17\", \"value\": 196122924}, {\"date\": \"2014-01-18\", \"value\": 157337480}, {\"date\": \"2014-01-19\", \"value\": 200258882}, {\"date\": \"2014-01-20\", \"value\": 186829538}, {\"date\": \"2014-01-21\", \"value\": 112456897}, {\"date\": \"2014-01-22\", \"value\": 114299711}, {\"date\": \"2014-01-23\", \"value\": 122759017}, {\"date\": \"2014-01-24\", \"value\": 203596183}, {\"date\": \"2014-01-25\", \"value\": 208107346}, {\"date\": \"2014-01-26\", \"value\": 196359852}, {\"date\": \"2014-01-27\", \"value\": 192570783}, {\"date\": \"2014-01-28\", \"value\": 177967768}, {\"date\": \"2014-01-29\", \"value\": 190632803}, {\"date\": \"2014-01-30\", \"value\": 203725316}, {\"date\": \"2014-01-31\", \"value\": 118226177}, {\"date\": \"2014-02-01\", \"value\": 210698669}, {\"date\": \"2014-02-02\", \"value\": 217640656}, {\"date\": \"2014-02-03\", \"value\": 216142362}, {\"date\": \"2014-02-04\", \"value\": 201410971}, {\"date\": \"2014-02-05\", \"value\": 196704289}, {\"date\": \"2014-02-06\", \"value\": 190436945}, {\"date\": \"2014-02-07\", \"value\": 178891686}, {\"date\": \"2014-02-08\", \"value\": 171613962}, {\"date\": \"2014-02-09\", \"value\": 107579773}, {\"date\": \"2014-02-10\", \"value\": 158677098}, {\"date\": \"2014-02-11\", \"value\": 147129977}, {\"date\": \"2014-02-12\", \"value\": 151561876}, {\"date\": \"2014-02-13\", \"value\": 151627421}, {\"date\": \"2014-02-14\", \"value\": 143543872}, {\"date\": \"2014-02-15\", \"value\": 136581057}, {\"date\": \"2014-02-16\", \"value\": 135560715}, {\"date\": \"2014-02-17\", \"value\": 122625263}, {\"date\": \"2014-02-18\", \"value\": 112091484}, {\"date\": \"2014-02-19\", \"value\": 98810329}, {\"date\": \"2014-02-20\", \"value\": 99882912}, {\"date\": \"2014-02-21\", \"value\": 94943095}, {\"date\": \"2014-02-22\", \"value\": 104875743}, {\"date\": \"2014-02-23\", \"value\": 116383678}, {\"date\": \"2014-02-24\", \"value\": 105028841}, {\"date\": \"2014-02-25\", \"value\": 123967310}, {\"date\": \"2014-02-26\", \"value\": 133167029}, {\"date\": \"2014-02-27\", \"value\": 128577263}, {\"date\": \"2014-02-28\", \"value\": 115836969}, {\"date\": \"2014-03-01\", \"value\": 119264529}, {\"date\": \"2014-03-02\", \"value\": 109363374}, {\"date\": \"2014-03-03\", \"value\": 113985628}, {\"date\": \"2014-03-04\", \"value\": 114650999}, {\"date\": \"2014-03-05\", \"value\": 110866108}, {\"date\": \"2014-03-06\", \"value\": 96473454}, {\"date\": \"2014-03-07\", \"value\": 84075886}, {\"date\": \"2014-03-08\", \"value\": 103568384}, {\"date\": \"2014-03-09\", \"value\": 101534883}, {\"date\": \"2014-03-10\", \"value\": 115825447}, {\"date\": \"2014-03-11\", \"value\": 126133916}, {\"date\": \"2014-03-12\", \"value\": 116502109}, {\"date\": \"2014-03-13\", \"value\": 80169411}, {\"date\": \"2014-03-14\", \"value\": 84296886}, {\"date\": \"2014-03-15\", \"value\": 86347399}, {\"date\": \"2014-03-16\", \"value\": 31483669}, {\"date\": \"2014-03-17\", \"value\": 142811333}, {\"date\": \"2014-03-18\", \"value\": 89675396}, {\"date\": \"2014-03-19\", \"value\": 115514483}, {\"date\": \"2014-03-20\", \"value\": 117630630}, {\"date\": \"2014-03-21\", \"value\": 122340239}, {\"date\": \"2014-03-22\", \"value\": 132349091}, {\"date\": \"2014-03-23\", \"value\": 125613305}, {\"date\": \"2014-03-24\", \"value\": 135592466}, {\"date\": \"2014-03-25\", \"value\": 123408762}, {\"date\": \"2014-03-26\", \"value\": 111991454}, {\"date\": \"2014-03-27\", \"value\": 116123955}, {\"date\": \"2014-03-28\", \"value\": 112817214}, {\"date\": \"2014-03-29\", \"value\": 113029590}, {\"date\": \"2014-03-30\", \"value\": 108753398}, {\"date\": \"2014-03-31\", \"value\": 99383763}, {\"date\": \"2014-04-01\", \"value\": 100151737}, {\"date\": \"2014-04-02\", \"value\": 94985209}, {\"date\": \"2014-04-03\", \"value\": 82913669}, {\"date\": \"2014-04-04\", \"value\": 78748268}, {\"date\": \"2014-04-05\", \"value\": 63829135}, {\"date\": \"2014-04-06\", \"value\": 78694727}, {\"date\": \"2014-04-07\", \"value\": 80868994}, {\"date\": \"2014-04-08\", \"value\": 93799013}, {\"date\": \"2014-04-09\", \"value\": 9042416}, {\"date\": \"2014-04-10\", \"value\": 97298692}, {\"date\": \"2014-04-11\", \"value\": 53353499}, {\"date\": \"2014-04-12\", \"value\": 71248129}, {\"date\": \"2014-04-13\", \"value\": 75253744}, {\"date\": \"2014-04-14\", \"value\": 68976648}, {\"date\": \"2014-04-15\", \"value\": 71002284}, {\"date\": \"2014-04-16\", \"value\": 75052401}, {\"date\": \"2014-04-17\", \"value\": 83894030}, {\"date\": \"2014-04-18\", \"value\": 50236528}, {\"date\": \"2014-04-19\", \"value\": 59739114}, {\"date\": \"2014-04-20\", \"value\": 56407136}, {\"date\": \"2014-04-21\", \"value\": 108323177}, {\"date\": \"2014-04-22\", \"value\": 101578914}, {\"date\": \"2014-04-23\", \"value\": 115877608}, {\"date\": \"2014-04-24\", \"value\": 132088857}, {\"date\": \"2014-04-25\", \"value\": 112071353}, {\"date\": \"2014-04-26\", \"value\": 81790062}, {\"date\": \"2014-04-27\", \"value\": 105003761}, {\"date\": \"2014-04-28\", \"value\": 100457727}, {\"date\": \"2014-04-29\", \"value\": 118253926}, {\"date\": \"2014-04-30\", \"value\": 67956992}];\n",
       "           "
      ],
      "text/plain": [
       "<IPython.core.display.Javascript object>"
      ]
     },
     "execution_count": 7,
     "metadata": {},
     "output_type": "execute_result"
    }
   ],
   "source": [
    "data = [{u'date': u'2014-01-01', u'value': 190000000},\n",
    " {u'date': u'2014-01-02', u'value': 190379978},\n",
    " {u'date': u'2014-01-03', u'value': 90493749},\n",
    " {u'date': u'2014-01-04', u'value': 190785250},\n",
    " {u'date': u'2014-01-05', u'value': 197391904},\n",
    " {u'date': u'2014-01-06', u'value': 191576838},\n",
    " {u'date': u'2014-01-07', u'value': 191413854},\n",
    " {u'date': u'2014-01-08', u'value': 142177211},\n",
    " {u'date': u'2014-01-09', u'value': 103762210},\n",
    " {u'date': u'2014-01-10', u'value': 144381072},\n",
    " {u'date': u'2014-01-11', u'value': 154352310},\n",
    " {u'date': u'2014-01-12', u'value': 165531790},\n",
    " {u'date': u'2014-01-13', u'value': 175748881},\n",
    " {u'date': u'2014-01-14', u'value': 187064037},\n",
    " {u'date': u'2014-01-15', u'value': 197520685},\n",
    " {u'date': u'2014-01-16', u'value': 210176418},\n",
    " {u'date': u'2014-01-17', u'value': 196122924},\n",
    " {u'date': u'2014-01-18', u'value': 157337480},\n",
    " {u'date': u'2014-01-19', u'value': 200258882},\n",
    " {u'date': u'2014-01-20', u'value': 186829538},\n",
    " {u'date': u'2014-01-21', u'value': 112456897},\n",
    " {u'date': u'2014-01-22', u'value': 114299711},\n",
    " {u'date': u'2014-01-23', u'value': 122759017},\n",
    " {u'date': u'2014-01-24', u'value': 203596183},\n",
    " {u'date': u'2014-01-25', u'value': 208107346},\n",
    " {u'date': u'2014-01-26', u'value': 196359852},\n",
    " {u'date': u'2014-01-27', u'value': 192570783},\n",
    " {u'date': u'2014-01-28', u'value': 177967768},\n",
    " {u'date': u'2014-01-29', u'value': 190632803},\n",
    " {u'date': u'2014-01-30', u'value': 203725316},\n",
    " {u'date': u'2014-01-31', u'value': 118226177},\n",
    " {u'date': u'2014-02-01', u'value': 210698669},\n",
    " {u'date': u'2014-02-02', u'value': 217640656},\n",
    " {u'date': u'2014-02-03', u'value': 216142362},\n",
    " {u'date': u'2014-02-04', u'value': 201410971},\n",
    " {u'date': u'2014-02-05', u'value': 196704289},\n",
    " {u'date': u'2014-02-06', u'value': 190436945},\n",
    " {u'date': u'2014-02-07', u'value': 178891686},\n",
    " {u'date': u'2014-02-08', u'value': 171613962},\n",
    " {u'date': u'2014-02-09', u'value': 107579773},\n",
    " {u'date': u'2014-02-10', u'value': 158677098},\n",
    " {u'date': u'2014-02-11', u'value': 147129977},\n",
    " {u'date': u'2014-02-12', u'value': 151561876},\n",
    " {u'date': u'2014-02-13', u'value': 151627421},\n",
    " {u'date': u'2014-02-14', u'value': 143543872},\n",
    " {u'date': u'2014-02-15', u'value': 136581057},\n",
    " {u'date': u'2014-02-16', u'value': 135560715},\n",
    " {u'date': u'2014-02-17', u'value': 122625263},\n",
    " {u'date': u'2014-02-18', u'value': 112091484},\n",
    " {u'date': u'2014-02-19', u'value': 98810329},\n",
    " {u'date': u'2014-02-20', u'value': 99882912},\n",
    " {u'date': u'2014-02-21', u'value': 94943095},\n",
    " {u'date': u'2014-02-22', u'value': 104875743},\n",
    " {u'date': u'2014-02-23', u'value': 116383678},\n",
    " {u'date': u'2014-02-24', u'value': 105028841},\n",
    " {u'date': u'2014-02-25', u'value': 123967310},\n",
    " {u'date': u'2014-02-26', u'value': 133167029},\n",
    " {u'date': u'2014-02-27', u'value': 128577263},\n",
    " {u'date': u'2014-02-28', u'value': 115836969},\n",
    " {u'date': u'2014-03-01', u'value': 119264529},\n",
    " {u'date': u'2014-03-02', u'value': 109363374},\n",
    " {u'date': u'2014-03-03', u'value': 113985628},\n",
    " {u'date': u'2014-03-04', u'value': 114650999},\n",
    " {u'date': u'2014-03-05', u'value': 110866108},\n",
    " {u'date': u'2014-03-06', u'value': 96473454},\n",
    " {u'date': u'2014-03-07', u'value': 84075886},\n",
    " {u'date': u'2014-03-08', u'value': 103568384},\n",
    " {u'date': u'2014-03-09', u'value': 101534883},\n",
    " {u'date': u'2014-03-10', u'value': 115825447},\n",
    " {u'date': u'2014-03-11', u'value': 126133916},\n",
    " {u'date': u'2014-03-12', u'value': 116502109},\n",
    " {u'date': u'2014-03-13', u'value': 80169411},\n",
    " {u'date': u'2014-03-14', u'value': 84296886},\n",
    " {u'date': u'2014-03-15', u'value': 86347399},\n",
    " {u'date': u'2014-03-16', u'value': 31483669},\n",
    " {u'date': u'2014-03-17', u'value': 142811333},\n",
    " {u'date': u'2014-03-18', u'value': 89675396},\n",
    " {u'date': u'2014-03-19', u'value': 115514483},\n",
    " {u'date': u'2014-03-20', u'value': 117630630},\n",
    " {u'date': u'2014-03-21', u'value': 122340239},\n",
    " {u'date': u'2014-03-22', u'value': 132349091},\n",
    " {u'date': u'2014-03-23', u'value': 125613305},\n",
    " {u'date': u'2014-03-24', u'value': 135592466},\n",
    " {u'date': u'2014-03-25', u'value': 123408762},\n",
    " {u'date': u'2014-03-26', u'value': 111991454},\n",
    " {u'date': u'2014-03-27', u'value': 116123955},\n",
    " {u'date': u'2014-03-28', u'value': 112817214},\n",
    " {u'date': u'2014-03-29', u'value': 113029590},\n",
    " {u'date': u'2014-03-30', u'value': 108753398},\n",
    " {u'date': u'2014-03-31', u'value': 99383763},\n",
    " {u'date': u'2014-04-01', u'value': 100151737},\n",
    " {u'date': u'2014-04-02', u'value': 94985209},\n",
    " {u'date': u'2014-04-03', u'value': 82913669},\n",
    " {u'date': u'2014-04-04', u'value': 78748268},\n",
    " {u'date': u'2014-04-05', u'value': 63829135},\n",
    " {u'date': u'2014-04-06', u'value': 78694727},\n",
    " {u'date': u'2014-04-07', u'value': 80868994},\n",
    " {u'date': u'2014-04-08', u'value': 93799013},\n",
    " {u'date': u'2014-04-09', u'value': 9042416},\n",
    " {u'date': u'2014-04-10', u'value': 97298692},\n",
    " {u'date': u'2014-04-11', u'value': 53353499},\n",
    " {u'date': u'2014-04-12', u'value': 71248129},\n",
    " {u'date': u'2014-04-13', u'value': 75253744},\n",
    " {u'date': u'2014-04-14', u'value': 68976648},\n",
    " {u'date': u'2014-04-15', u'value': 71002284},\n",
    " {u'date': u'2014-04-16', u'value': 75052401},\n",
    " {u'date': u'2014-04-17', u'value': 83894030},\n",
    " {u'date': u'2014-04-18', u'value': 50236528},\n",
    " {u'date': u'2014-04-19', u'value': 59739114},\n",
    " {u'date': u'2014-04-20', u'value': 56407136},\n",
    " {u'date': u'2014-04-21', u'value': 108323177},\n",
    " {u'date': u'2014-04-22', u'value': 101578914},\n",
    " {u'date': u'2014-04-23', u'value': 115877608},\n",
    " {u'date': u'2014-04-24', u'value': 132088857},\n",
    " {u'date': u'2014-04-25', u'value': 112071353},\n",
    " {u'date': u'2014-04-26', u'value': 81790062},\n",
    " {u'date': u'2014-04-27', u'value': 105003761},\n",
    " {u'date': u'2014-04-28', u'value': 100457727},\n",
    " {u'date': u'2014-04-29', u'value': 118253926},\n",
    " {u'date': u'2014-04-30', u'value': 67956992}]\n",
    "\n",
    "import json\n",
    "from IPython.display import Javascript\n",
    "#runs arbitrary javascript, client-side\n",
    "Javascript(\"\"\"\n",
    "           window.chart_data={};\n",
    "           \"\"\".format(json.dumps(data)))"
   ]
  },
  {
   "cell_type": "markdown",
   "metadata": {},
   "source": [
    "Load JS libraries (and CSS)"
   ]
  },
  {
   "cell_type": "code",
   "execution_count": 16,
   "metadata": {
    "collapsed": false
   },
   "outputs": [
    {
     "data": {
      "application/javascript": [
       "require.config({\n",
       "  paths: {\n",
       "      d3: '//cdnjs.cloudflare.com/ajax/libs/d3/3.4.8/d3.min',\n",
       "      mg: '//www.ncc.unesp.br/~winckler/metrics-graphics-2.7.0/dist/metricsgraphics.min'\n",
       "  }\n",
       "});\n",
       "\n",
       "$('head').append('<link rel=\"stylesheet\" type=\"text/css\" href=\"//www.ncc.unesp.br/~winckler/metrics-graphics-2.7.0/dist/metricsgraphics.css\">');"
      ],
      "text/plain": [
       "<IPython.core.display.Javascript object>"
      ]
     },
     "metadata": {},
     "output_type": "display_data"
    }
   ],
   "source": [
    "%%javascript\n",
    "require.config({\n",
    "  paths: {\n",
    "      d3: '//cdnjs.cloudflare.com/ajax/libs/d3/3.4.8/d3.min',\n",
    "      mg: '//www.ncc.unesp.br/~winckler/metrics-graphics-2.7.0/dist/metricsgraphics.min'\n",
    "  }\n",
    "});\n",
    "\n",
    "$('head').append('<link rel=\"stylesheet\" type=\"text/css\" href=\"//www.ncc.unesp.br/~winckler/metrics-graphics-2.7.0/dist/metricsgraphics.css\">');"
   ]
  },
  {
   "cell_type": "code",
   "execution_count": 17,
   "metadata": {
    "collapsed": false
   },
   "outputs": [
    {
     "data": {
      "application/javascript": [
       "require(['d3', 'mg'], function(d3){\n",
       "\n",
       "  //a weird idempotency thing\n",
       "  $(\"#chart\").remove();\n",
       "\n",
       "  //create canvas\n",
       "  element.append(\"<div id='chart'></div>\");\n",
       "  $(\"#chart\").width(\"600px\");\n",
       "  $(\"#chart\").height(\"480px\");        \n",
       "\n",
       "  // not needed\n",
       "  // data = MG.convert.date(chart_data, 'date');\n",
       "  MG.data_graphic({\n",
       "        title: \"Line Chart\",\n",
       "        description: \"This is a simple line chart.\",\n",
       "        data: chart_data,\n",
       "        width: 600,\n",
       "        height: 480,\n",
       "        right: 40,\n",
       "        target: document.getElementById('chart'),\n",
       "        x_accessor: 'date',\n",
       "        y_accessor: 'value'\n",
       "    });\n",
       "    \n",
       "})"
      ],
      "text/plain": [
       "<IPython.core.display.Javascript object>"
      ]
     },
     "metadata": {},
     "output_type": "display_data"
    }
   ],
   "source": [
    "%%javascript\n",
    "require(['d3', 'mg'], function(d3){\n",
    "\n",
    "  //a weird idempotency thing\n",
    "  $(\"#chart\").remove();\n",
    "\n",
    "  //create canvas\n",
    "  element.append(\"<div id='chart'></div>\");\n",
    "  $(\"#chart\").width(\"600px\");\n",
    "  $(\"#chart\").height(\"480px\");        \n",
    "\n",
    "  // not needed\n",
    "  // data = MG.convert.date(chart_data, 'date');\n",
    "  MG.data_graphic({\n",
    "        title: \"Line Chart\",\n",
    "        description: \"This is a simple line chart.\",\n",
    "        data: chart_data,\n",
    "        width: 600,\n",
    "        height: 480,\n",
    "        right: 40,\n",
    "        target: document.getElementById('chart'),\n",
    "        x_accessor: 'date',\n",
    "        y_accessor: 'value'\n",
    "    });\n",
    "    \n",
    "})\n"
   ]
  }
 ],
 "metadata": {
  "kernelspec": {
   "display_name": "Python 2",
   "language": "python",
   "name": "python2"
  },
  "language_info": {
   "codemirror_mode": {
    "name": "ipython",
    "version": 2
   },
   "file_extension": ".py",
   "mimetype": "text/x-python",
   "name": "python",
   "nbconvert_exporter": "python",
   "pygments_lexer": "ipython2",
   "version": "2.7.10"
  }
 },
 "nbformat": 4,
 "nbformat_minor": 0
}
