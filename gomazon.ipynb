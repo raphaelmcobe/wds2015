{
 "cells": [
  {
   "cell_type": "markdown",
   "metadata": {},
   "source": [
    "# I Workshop on DataScience of POLI - USP\n",
    "# Basic data visualization with the ARM/BR/Manacapuru (goamazon) dataset\n",
    "## Surface Meteorological Instrumentation (MET)\n",
    "\n",
    "* Gabriel A. von Winckler\n",
    "* Kleberson Junio do Amaral Serique\n",
    "* Launindo Campos\n",
    "* Raphael M. Cobe \n",
    "\n",
    "# Introduction\n",
    "\n",
    "This project aims to deliver a better interface to visualize data from the ARM project (http://www.arm.gov)\n",
    "In order to achieve this goal we first developed a small library that parses the NetCDF files within a given time window for a specific variable.\n",
    "\n",
    "# Getting and cleaning the data\n",
    "\n",
    "The data was gathered from the ARM portal in NetCDF format. The data was downloaded from the Manacapuru station and contains data from several sensors, such as:\n",
    "* Temperature;\n",
    "* Relative Humidity;\n",
    "* Precipitation; and so on..\n",
    "\n",
    "The complete list of the sensors can be seen at: https://github.com/raphaelmcobe/wds2015\n",
    "\n",
    "The downloaded data was divided in files - one for each day. Each day counted with **1440 sensor measures**. The data ranged from 2013 to 2015 in a total of **701 files**.\n",
    "\n",
    "We developed our project with the following technologies:\n",
    "\n",
    "1. Python language;\n",
    "2. Jupyter Notebook;\n",
    "3. Numpy;\n",
    "4. NetCDF4 for Python;\n",
    "5. D3 JS; and\n",
    "6. Mozilla Metrics Graphics\n",
    "\n",
    "## The parser\n",
    "\n",
    "The parser receives two dates and selects the files within that range. It also receives the number of a variable and collects the data for such variable from the files. The missing data is filled with a specific *None* python object. We assume the the data is available at the `data` directory.\n",
    "\n",
    "We used numpy to summarize the data for each day, by calculating the mean and standard deviation for the set of 1440 daily measures.\n",
    "\n",
    "The generated output is in JSON format and is automatically generated using a Python serialization API."
   ]
  },
  {
   "cell_type": "code",
   "execution_count": 16,
   "metadata": {
    "collapsed": false
   },
   "outputs": [],
   "source": [
    "from netCDF4 import Dataset\n",
    "from datetime import datetime\n",
    "import glob\n",
    "import os\n",
    "import numpy as np\n",
    "import json\n",
    "\n",
    "DATA_HOME = \"./data/\"\n",
    "def NetCDFtoJSON(variable=\"temp_mean\", \n",
    "    start_date=\"20140101\", end_date=\"20140131\"):\n",
    "\n",
    "    \"\"\" This function receives a time frame and produces a json version of\n",
    "    the data stored at the netcdf repository.  \"\"\"\n",
    "\n",
    "    data_home = DATA_HOME\n",
    "\n",
    "    start_date = datetime.strptime(start_date, \"%Y%m%d\").date()\n",
    "\n",
    "    end_date = datetime.strptime(end_date, \"%Y%m%d\").date()\n",
    "\n",
    "    data_files = glob.glob(\"%s/*.cdf\" %(data_home))\n",
    "    filtered_data = []\n",
    "    for file_name in data_files:\n",
    "        file_name = os.path.abspath(file_name)\n",
    "        file_date = datetime.strptime(\n",
    "            file_name.split('.')[2],\"%Y%m%d\").date()\n",
    "        if file_date >= start_date and file_date <= end_date:\n",
    "            file_obj = Dataset(file_name)\n",
    "            date_value = {}\n",
    "            variable_value_daily_mean = np.mean(file_obj.variables[variable][:])\n",
    "            variable_value_daily_std = np.std(file_obj.variables[variable][:])\n",
    "            date_value[\"date\"] = file_date.isoformat()\n",
    "            mean_value = np.asscalar(variable_value_daily_mean)\n",
    "            lower_std = mean_value - np.asscalar(variable_value_daily_std)\n",
    "            upper_std = mean_value + np.asscalar(variable_value_daily_std)\n",
    "            if mean_value == 0 :\n",
    "                mean_value = None\n",
    "                upper_std = None\n",
    "                lower_std = None\n",
    "            date_value[\"value\"] = mean_value\n",
    "            date_value[\"l\"] = lower_std\n",
    "            date_value[\"u\"] = upper_std\n",
    "            filtered_data.append(date_value)\n",
    "\n",
    "    return json.dumps(filtered_data)"
   ]
  },
  {
   "cell_type": "markdown",
   "metadata": {},
   "source": [
    "As output example we have:"
   ]
  },
  {
   "cell_type": "code",
   "execution_count": 17,
   "metadata": {
    "collapsed": false
   },
   "outputs": [
    {
     "data": {
      "text/plain": [
       "'[{\"date\": \"2015-10-15\", \"u\": 34.96739721298218, \"l\": 25.873175144195557, \"value\": 30.420286178588867}, {\"date\": \"2015-10-16\", \"u\": 35.23344135284424, \"l\": 26.28056240081787, \"value\": 30.757001876831055}]'"
      ]
     },
     "execution_count": 17,
     "metadata": {},
     "output_type": "execute_result"
    }
   ],
   "source": [
    "NetCDFtoJSON(\"temp_mean\", \"20151015\", \"20151016\")"
   ]
  },
  {
   "cell_type": "markdown",
   "metadata": {},
   "source": [
    "# Visualizing data\n",
    "\n",
    "Load JS libraries (and CSS) using `IPython.display.Javascript`\n",
    "\n",
    "* Input a data for start time `start_time`\n",
    "* Input a data for end time `end_time`"
   ]
  },
  {
   "cell_type": "code",
   "execution_count": 18,
   "metadata": {
    "collapsed": false
   },
   "outputs": [
    {
     "data": {
      "application/javascript": [
       "\n",
       "           window.chart_data_temp=[{\"date\": \"2015-06-01\", \"u\": 30.429370403289795, \"l\": 22.093021869659424, \"value\": 26.26119613647461}, {\"date\": \"2015-06-02\", \"u\": 30.62199854850769, \"l\": 23.813140153884888, \"value\": 27.21756935119629}, {\"date\": \"2015-06-03\", \"u\": 30.290457248687744, \"l\": 22.147572994232178, \"value\": 26.21901512145996}, {\"date\": \"2015-06-04\", \"u\": 31.4100124835968, \"l\": 23.448073148727417, \"value\": 27.42904281616211}, {\"date\": \"2015-06-05\", \"u\": 31.512210845947266, \"l\": 23.28525161743164, \"value\": 27.398731231689453}, {\"date\": \"2015-06-06\", \"u\": 28.584020137786865, \"l\": 24.573565006256104, \"value\": 26.578792572021484}, {\"date\": \"2015-06-07\", \"u\": 27.528902649879456, \"l\": 23.675893187522888, \"value\": 25.602397918701172}, {\"date\": \"2015-06-08\", \"u\": 29.671974897384644, \"l\": 23.034693956375122, \"value\": 26.353334426879883}, {\"date\": \"2015-06-09\", \"u\": 28.137168169021606, \"l\": 22.861069440841675, \"value\": 25.49911880493164}, {\"date\": \"2015-06-10\", \"u\": 28.903074502944946, \"l\": 23.23853850364685, \"value\": 26.0708065032959}, {\"date\": \"2015-06-11\", \"u\": 29.349846601486206, \"l\": 23.78630757331848, \"value\": 26.568077087402344}, {\"date\": \"2015-06-12\", \"u\": 28.79907751083374, \"l\": 22.69195795059204, \"value\": 25.74551773071289}, {\"date\": \"2015-06-12\", \"u\": 32.58962821960449, \"l\": 27.807870864868164, \"value\": 30.198749542236328}, {\"date\": \"2015-06-13\", \"u\": 27.224563121795654, \"l\": 23.846901416778564, \"value\": 25.53573226928711}, {\"date\": \"2015-06-14\", \"u\": 28.811264991760254, \"l\": 19.151236534118652, \"value\": 23.981250762939453}, {\"date\": \"2015-06-15\", \"u\": 30.36214542388916, \"l\": 22.65644359588623, \"value\": 26.509294509887695}, {\"date\": \"2015-06-16\", \"u\": 31.003953456878662, \"l\": 22.509527683258057, \"value\": 26.75674057006836}, {\"date\": \"2015-06-17\", \"u\": 31.422117233276367, \"l\": 23.157075881958008, \"value\": 27.289596557617188}, {\"date\": \"2015-06-18\", \"u\": 28.769280910491943, \"l\": 23.735037326812744, \"value\": 26.252159118652344}, {\"date\": \"2015-06-19\", \"u\": 29.630456686019897, \"l\": 23.708513498306274, \"value\": 26.669485092163086}, {\"date\": \"2015-06-20\", \"u\": 27.411075115203857, \"l\": 23.957703113555908, \"value\": 25.684389114379883}, {\"date\": \"2015-06-21\", \"u\": 25.922032713890076, \"l\": 23.118521332740784, \"value\": 24.52027702331543}, {\"date\": \"2015-06-22\", \"u\": 29.97794818878174, \"l\": 20.379328727722168, \"value\": 25.178638458251953}, {\"date\": \"2015-06-23\", \"u\": 26.41516947746277, \"l\": 23.201720476150513, \"value\": 24.80844497680664}, {\"date\": \"2015-06-24\", \"u\": 30.633694171905518, \"l\": 18.183196544647217, \"value\": 24.408445358276367}, {\"date\": \"2015-06-25\", \"u\": 31.2855167388916, \"l\": 22.93613624572754, \"value\": 27.11082649230957}, {\"date\": \"2015-06-26\", \"u\": 28.702579497445107, \"l\": 19.532902508421316, \"value\": 24.11774100293321}, {\"date\": \"2015-06-27\", \"u\": null, \"l\": null, \"value\": null}, {\"date\": \"2015-06-28\", \"u\": null, \"l\": null, \"value\": null}, {\"date\": \"2015-06-29\", \"u\": 32.120069375886295, \"l\": 27.549720469684797, \"value\": 29.834894922785548}, {\"date\": \"2015-06-30\", \"u\": 30.290176153182983, \"l\": 23.145946741104126, \"value\": 26.718061447143555}, {\"date\": \"2015-07-01\", \"u\": 31.17714262008667, \"l\": 23.09635591506958, \"value\": 27.136749267578125}, {\"date\": \"2015-07-02\", \"u\": 31.552218437194824, \"l\": 22.68412494659424, \"value\": 27.11817169189453}, {\"date\": \"2015-07-03\", \"u\": 30.974199056625366, \"l\": 24.413301706314087, \"value\": 27.693750381469727}, {\"date\": \"2015-07-04\", \"u\": 30.597140073776245, \"l\": 22.883816957473755, \"value\": 26.740478515625}, {\"date\": \"2015-07-05\", \"u\": 28.57670521736145, \"l\": 24.572170972824097, \"value\": 26.574438095092773}, {\"date\": \"2015-07-06\", \"u\": 30.00596809387207, \"l\": 24.67954444885254, \"value\": 27.342756271362305}, {\"date\": \"2015-07-07\", \"u\": 29.362380981445312, \"l\": 23.320560455322266, \"value\": 26.34147071838379}, {\"date\": \"2015-07-08\", \"u\": 29.19028115272522, \"l\": 24.635745763778687, \"value\": 26.913013458251953}, {\"date\": \"2015-07-09\", \"u\": 30.843944311141968, \"l\": 23.79966378211975, \"value\": 27.32180404663086}, {\"date\": \"2015-07-10\", \"u\": 31.40311360359192, \"l\": 23.639363050460815, \"value\": 27.521238327026367}, {\"date\": \"2015-07-11\", \"u\": 31.59401774406433, \"l\": 23.976935625076294, \"value\": 27.785476684570312}, {\"date\": \"2015-07-12\", \"u\": 31.53513240814209, \"l\": 22.928730964660645, \"value\": 27.231931686401367}, {\"date\": \"2015-07-13\", \"u\": 31.388477325439453, \"l\": 23.102245330810547, \"value\": 27.245361328125}, {\"date\": \"2015-07-14\", \"u\": 30.16500473022461, \"l\": 22.083415985107422, \"value\": 26.124210357666016}, {\"date\": \"2015-07-14\", \"u\": 29.864670991897583, \"l\": 26.76013445854187, \"value\": 28.312402725219727}, {\"date\": \"2015-07-15\", \"u\": 31.266155242919922, \"l\": 23.218528747558594, \"value\": 27.242341995239258}, {\"date\": \"2015-07-16\", \"u\": 25.250405371189117, \"l\": 23.48297780752182, \"value\": 24.36669158935547}, {\"date\": \"2015-07-16\", \"u\": 29.2634596824646, \"l\": 26.025965213775635, \"value\": 27.644712448120117}, {\"date\": \"2015-07-17\", \"u\": 31.239351987838745, \"l\": 24.24455761909485, \"value\": 27.741954803466797}, {\"date\": \"2015-07-18\", \"u\": 31.62247085571289, \"l\": 23.304637908935547, \"value\": 27.46355438232422}, {\"date\": \"2015-07-19\", \"u\": 31.492782592773438, \"l\": 23.969879150390625, \"value\": 27.73133087158203}, {\"date\": \"2015-07-21\", \"u\": 30.683916330337524, \"l\": 25.182599782943726, \"value\": 27.933258056640625}, {\"date\": \"2015-07-22\", \"u\": 27.809354543685913, \"l\": 23.868814706802368, \"value\": 25.83908462524414}, {\"date\": \"2015-07-23\", \"u\": 30.082944631576538, \"l\": 23.19472336769104, \"value\": 26.63883399963379}, {\"date\": \"2015-07-24\", \"u\": 31.10093379020691, \"l\": 24.052565813064575, \"value\": 27.576749801635742}, {\"date\": \"2015-07-25\", \"u\": 27.754210472106934, \"l\": 23.022847175598145, \"value\": 25.38852882385254}, {\"date\": \"2015-07-26\", \"u\": 29.58339834213257, \"l\": 19.639627933502197, \"value\": 24.611513137817383}, {\"date\": \"2015-07-27\", \"u\": 30.622695922851562, \"l\": 23.17138671875, \"value\": 26.89704132080078}, {\"date\": \"2015-07-28\", \"u\": 31.364943265914917, \"l\": 23.777234315872192, \"value\": 27.571088790893555}, {\"date\": \"2015-07-29\", \"u\": 31.862698554992676, \"l\": 23.56684398651123, \"value\": 27.714771270751953}, {\"date\": \"2015-07-30\", \"u\": 31.44977331161499, \"l\": 23.03232431411743, \"value\": 27.24104881286621}, {\"date\": \"2015-07-31\", \"u\": 31.097508907318115, \"l\": 23.549570560455322, \"value\": 27.32353973388672}, {\"date\": \"2015-08-01\", \"u\": 30.998501300811768, \"l\": 23.485808849334717, \"value\": 27.242155075073242}];\n",
       "           window.chart_data_rh=[{\"date\": \"2015-06-01\", \"u\": 100.47437763214111, \"l\": 79.41330242156982, \"value\": 89.94384002685547}, {\"date\": \"2015-06-02\", \"u\": 102.13761329650879, \"l\": 76.52078819274902, \"value\": 89.3292007446289}, {\"date\": \"2015-06-03\", \"u\": 102.82232856750488, \"l\": 77.05067253112793, \"value\": 89.9365005493164}, {\"date\": \"2015-06-04\", \"u\": 101.62396240234375, \"l\": 70.44509887695312, \"value\": 86.03453063964844}, {\"date\": \"2015-06-05\", \"u\": 100.91836547851562, \"l\": 70.72975158691406, \"value\": 85.82405853271484}, {\"date\": \"2015-06-06\", \"u\": 100.24836540222168, \"l\": 84.51669502258301, \"value\": 92.38253021240234}, {\"date\": \"2015-06-07\", \"u\": 101.32973289489746, \"l\": 89.65802955627441, \"value\": 95.49388122558594}, {\"date\": \"2015-06-08\", \"u\": 101.07607650756836, \"l\": 76.4230842590332, \"value\": 88.74958038330078}, {\"date\": \"2015-06-09\", \"u\": 103.00096607208252, \"l\": 85.51060009002686, \"value\": 94.25578308105469}, {\"date\": \"2015-06-10\", \"u\": 101.62020492553711, \"l\": 85.1258430480957, \"value\": 93.3730239868164}, {\"date\": \"2015-06-11\", \"u\": 101.15524005889893, \"l\": 79.74392986297607, \"value\": 90.4495849609375}, {\"date\": \"2015-06-12\", \"u\": 103.83794403076172, \"l\": 81.51224517822266, \"value\": 92.67509460449219}, {\"date\": \"2015-06-12\", \"u\": 87.19485664367676, \"l\": 61.79885673522949, \"value\": 74.49685668945312}, {\"date\": \"2015-06-13\", \"u\": 101.57166051864624, \"l\": 91.44904565811157, \"value\": 96.5103530883789}, {\"date\": \"2015-06-14\", \"u\": 103.5163631439209, \"l\": 86.43073463439941, \"value\": 94.97354888916016}, {\"date\": \"2015-06-15\", \"u\": 101.96917343139648, \"l\": 76.55551528930664, \"value\": 89.26234436035156}, {\"date\": \"2015-06-16\", \"u\": 101.61589908599854, \"l\": 72.02632808685303, \"value\": 86.82111358642578}, {\"date\": \"2015-06-17\", \"u\": 101.52981376647949, \"l\": 67.79376411437988, \"value\": 84.66178894042969}, {\"date\": \"2015-06-18\", \"u\": 102.69397735595703, \"l\": 83.6300277709961, \"value\": 93.16200256347656}, {\"date\": \"2015-06-19\", \"u\": 101.15148735046387, \"l\": 80.14949226379395, \"value\": 90.6504898071289}, {\"date\": \"2015-06-20\", \"u\": 100.32177877426147, \"l\": 88.2624192237854, \"value\": 94.29209899902344}, {\"date\": \"2015-06-21\", \"u\": 102.33689832687378, \"l\": 93.18685960769653, \"value\": 97.76187896728516}, {\"date\": \"2015-06-22\", \"u\": 102.37738418579102, \"l\": 75.38799667358398, \"value\": 88.8826904296875}, {\"date\": \"2015-06-23\", \"u\": 100.14810538291931, \"l\": 93.65757393836975, \"value\": 96.90283966064453}, {\"date\": \"2015-06-24\", \"u\": 103.31871604919434, \"l\": 71.61905860900879, \"value\": 87.46888732910156}, {\"date\": \"2015-06-25\", \"u\": 102.08245468139648, \"l\": 63.98067092895508, \"value\": 83.03156280517578}, {\"date\": \"2015-06-26\", \"u\": 101.5218391418457, \"l\": 64.13138961791992, \"value\": 82.82661437988281}, {\"date\": \"2015-06-27\", \"u\": 102.5010404586792, \"l\": 86.66476154327393, \"value\": 94.58290100097656}, {\"date\": \"2015-06-28\", \"u\": 103.37747287750244, \"l\": 81.17092800140381, \"value\": 92.27420043945312}, {\"date\": \"2015-06-29\", \"u\": 102.62098598480225, \"l\": 71.66317844390869, \"value\": 87.14208221435547}, {\"date\": \"2015-06-30\", \"u\": 101.9329423904419, \"l\": 74.05262279510498, \"value\": 87.99278259277344}, {\"date\": \"2015-07-01\", \"u\": 102.71873474121094, \"l\": 68.62045288085938, \"value\": 85.66959381103516}, {\"date\": \"2015-07-02\", \"u\": 103.32387733459473, \"l\": 65.90639305114746, \"value\": 84.6151351928711}, {\"date\": \"2015-07-03\", \"u\": 103.09784698486328, \"l\": 72.98296356201172, \"value\": 88.0404052734375}, {\"date\": \"2015-07-04\", \"u\": 102.26811504364014, \"l\": 74.14515399932861, \"value\": 88.20663452148438}, {\"date\": \"2015-07-05\", \"u\": 100.29404592514038, \"l\": 85.66130685806274, \"value\": 92.97767639160156}, {\"date\": \"2015-07-06\", \"u\": 100.345534324646, \"l\": 76.03219699859619, \"value\": 88.1888656616211}, {\"date\": \"2015-07-07\", \"u\": 100.87628841400146, \"l\": 77.31858158111572, \"value\": 89.0974349975586}, {\"date\": \"2015-07-08\", \"u\": 100.26592636108398, \"l\": 80.26440811157227, \"value\": 90.26516723632812}, {\"date\": \"2015-07-09\", \"u\": 101.51399517059326, \"l\": 70.49915790557861, \"value\": 86.00657653808594}, {\"date\": \"2015-07-10\", \"u\": 99.93621635437012, \"l\": 67.4720630645752, \"value\": 83.70413970947266}, {\"date\": \"2015-07-11\", \"u\": 99.09295654296875, \"l\": 63.15447998046875, \"value\": 81.12371826171875}, {\"date\": \"2015-07-12\", \"u\": 101.75728416442871, \"l\": 64.84920692443848, \"value\": 83.3032455444336}, {\"date\": \"2015-07-13\", \"u\": 103.18635368347168, \"l\": 65.26448249816895, \"value\": 84.22541809082031}, {\"date\": \"2015-07-14\", \"u\": 105.54902267456055, \"l\": 73.00185012817383, \"value\": 89.27543640136719}, {\"date\": \"2015-07-14\", \"u\": 90.52055644989014, \"l\": 71.54472064971924, \"value\": 81.03263854980469}, {\"date\": \"2015-07-15\", \"u\": 101.09457397460938, \"l\": 67.85472106933594, \"value\": 84.47464752197266}, {\"date\": \"2015-07-16\", \"u\": 100.54322850704193, \"l\": 97.62933313846588, \"value\": 99.0862808227539}, {\"date\": \"2015-07-16\", \"u\": 93.06117486953735, \"l\": 80.11453008651733, \"value\": 86.58785247802734}, {\"date\": \"2015-07-17\", \"u\": 101.79603576660156, \"l\": 68.42103576660156, \"value\": 85.10853576660156}, {\"date\": \"2015-07-18\", \"u\": 102.46939277648926, \"l\": 64.09557914733887, \"value\": 83.28248596191406}, {\"date\": \"2015-07-19\", \"u\": 101.91342353820801, \"l\": 66.9709300994873, \"value\": 84.44217681884766}, {\"date\": \"2015-07-21\", \"u\": 100.70273017883301, \"l\": 74.26856803894043, \"value\": 87.48564910888672}, {\"date\": \"2015-07-22\", \"u\": 101.99233675003052, \"l\": 86.60028409957886, \"value\": 94.29631042480469}, {\"date\": \"2015-07-23\", \"u\": 101.55920028686523, \"l\": 74.28798294067383, \"value\": 87.92359161376953}, {\"date\": \"2015-07-24\", \"u\": 101.66724014282227, \"l\": 70.85622787475586, \"value\": 86.26173400878906}, {\"date\": \"2015-07-25\", \"u\": 104.07105350494385, \"l\": 85.4449987411499, \"value\": 94.75802612304688}, {\"date\": \"2015-07-26\", \"u\": 103.61067771911621, \"l\": 75.9064884185791, \"value\": 89.75858306884766}, {\"date\": \"2015-07-27\", \"u\": 100.58505821228027, \"l\": 74.0197696685791, \"value\": 87.30241394042969}, {\"date\": \"2015-07-28\", \"u\": 101.07674026489258, \"l\": 68.88631820678711, \"value\": 84.98152923583984}, {\"date\": \"2015-07-29\", \"u\": 100.50833892822266, \"l\": 65.81291961669922, \"value\": 83.16062927246094}, {\"date\": \"2015-07-30\", \"u\": 101.1264533996582, \"l\": 68.47613143920898, \"value\": 84.8012924194336}, {\"date\": \"2015-07-31\", \"u\": 99.36430168151855, \"l\": 70.30722236633301, \"value\": 84.83576202392578}, {\"date\": \"2015-08-01\", \"u\": 100.72373962402344, \"l\": 71.26890563964844, \"value\": 85.99632263183594}];\n",
       "           window.chart_data_precip=[{\"date\": \"2015-06-01\", \"u\": 0.04665205720812082, \"l\": -0.03971177991479635, \"value\": 0.0034701386466622353}, {\"date\": \"2015-06-02\", \"u\": 0.15312396176159382, \"l\": -0.12314201705157757, \"value\": 0.014990972355008125}, {\"date\": \"2015-06-03\", \"u\": 0.026038707583211362, \"l\": -0.023908151895739138, \"value\": 0.0010652778437361121}, {\"date\": \"2015-06-04\", \"u\": 0.9964861199259758, \"l\": -0.9408000186085701, \"value\": 0.02784305065870285}, {\"date\": \"2015-06-05\", \"u\": 0.0031220326272887178, \"l\": -0.00294842151197372, \"value\": 8.680555765749887e-05}, {\"date\": \"2015-06-06\", \"u\": 0.17794344946742058, \"l\": -0.1487656719982624, \"value\": 0.014588888734579086}, {\"date\": \"2015-06-07\", \"u\": 3.3258373737335205, \"l\": -2.742779016494751, \"value\": 0.29152917861938477}, {\"date\": \"2015-06-08\", \"u\": 0.01069428151822649, \"l\": -0.009740114823216572, \"value\": 0.0004770833475049585}, {\"date\": \"2015-06-09\", \"u\": 6.348789751529694, \"l\": -4.98893016576767, \"value\": 0.679929792881012}, {\"date\": \"2015-06-10\", \"u\": 9.715892672538757, \"l\": -8.138124585151672, \"value\": 0.7888840436935425}, {\"date\": \"2015-06-11\", \"u\": 6.588451325893402, \"l\": -5.39722353219986, \"value\": 0.5956138968467712}, {\"date\": \"2015-06-12\", \"u\": 0.006059605831978843, \"l\": -0.005187383649172261, \"value\": 0.00043611109140329063}, {\"date\": \"2015-06-12\", \"u\": 0.014752499526366591, \"l\": -0.012346944073215127, \"value\": 0.0012027777265757322}, {\"date\": \"2015-06-13\", \"u\": 3.8638903200626373, \"l\": -3.0195458829402924, \"value\": 0.4221722185611725}, {\"date\": \"2015-06-14\", \"u\": 0.546914242208004, \"l\": -0.4517114534974098, \"value\": 0.04760139435529709}, {\"date\": \"2015-06-15\", \"u\": 2.8637990429997444, \"l\": -2.6337795779109, \"value\": 0.11500973254442215}, {\"date\": \"2015-06-16\", \"u\": 1.4195811301469803, \"l\": -1.2800353020429611, \"value\": 0.06977291405200958}, {\"date\": \"2015-06-17\", \"u\": 1.21771652251482, \"l\": -1.1406623646616936, \"value\": 0.03852707892656326}, {\"date\": \"2015-06-18\", \"u\": 1.0106338411569595, \"l\": -0.908774122595787, \"value\": 0.05092985928058624}, {\"date\": \"2015-06-19\", \"u\": 0.15933542186394334, \"l\": -0.14430625503882766, \"value\": 0.00751458341255784}, {\"date\": \"2015-06-20\", \"u\": 2.2871790677309036, \"l\": -1.8068651407957077, \"value\": 0.24015696346759796}, {\"date\": \"2015-06-21\", \"u\": 8.237865328788757, \"l\": -6.129559636116028, \"value\": 1.0541528463363647}, {\"date\": \"2015-06-22\", \"u\": 0.12724432675167918, \"l\": -0.11649988265708089, \"value\": 0.005372222047299147}, {\"date\": \"2015-06-23\", \"u\": 3.940645232796669, \"l\": -3.5577521175146103, \"value\": 0.19144655764102936}, {\"date\": \"2015-06-24\", \"u\": 0.015064775187056512, \"l\": -0.013214775186497718, \"value\": 0.0009250000002793968}, {\"date\": \"2015-06-25\", \"u\": 0.7748647555708885, \"l\": -0.7059342041611671, \"value\": 0.03446527570486069}, {\"date\": \"2015-06-26\", \"u\": 0.10038729871174412, \"l\": -0.09339983325441228, \"value\": 0.003493732728665918}, {\"date\": \"2015-06-27\", \"u\": 19.421428442001343, \"l\": -13.336975336074829, \"value\": 3.042226552963257}, {\"date\": \"2015-06-28\", \"u\": 2.553132936358452, \"l\": -2.2338662892580032, \"value\": 0.1596333235502243}, {\"date\": \"2015-06-29\", \"u\": 0.42742940632788734, \"l\": -0.3943931929285794, \"value\": 0.016518106699653985}, {\"date\": \"2015-06-30\", \"u\": 0.008419332618359476, \"l\": -0.007192943652626127, \"value\": 0.0006131944828666747}, {\"date\": \"2015-07-01\", \"u\": 0.5138602554798126, \"l\": -0.481657475233078, \"value\": 0.01610139012336731}, {\"date\": \"2015-07-02\", \"u\": 0.3956479150801897, \"l\": -0.36979791335761547, \"value\": 0.012925000861287117}, {\"date\": \"2015-07-03\", \"u\": 0.3848184272646904, \"l\": -0.3197600916028023, \"value\": 0.03252916783094406}, {\"date\": \"2015-07-04\", \"u\": 0.027522409800440073, \"l\": -0.022650187369436026, \"value\": 0.0024361112155020237}, {\"date\": \"2015-07-05\", \"u\": 7.160325795412064, \"l\": -6.280813425779343, \"value\": 0.4397561848163605}, {\"date\": \"2015-07-06\", \"u\": 1.6119952127337456, \"l\": -1.368629939854145, \"value\": 0.12168263643980026}, {\"date\": \"2015-07-07\", \"u\": 0.9948490001261234, \"l\": -0.9344753883779049, \"value\": 0.030186805874109268}, {\"date\": \"2015-07-08\", \"u\": 0.025899438187479973, \"l\": -0.021804993972182274, \"value\": 0.0020472221076488495}, {\"date\": \"2015-07-09\", \"u\": 0.8455424569547176, \"l\": -0.7262369133532047, \"value\": 0.059652771800756454}, {\"date\": \"2015-07-10\", \"u\": 0.030430884333327413, \"l\": -0.026951717911288142, \"value\": 0.0017395832110196352}, {\"date\": \"2015-07-11\", \"u\": 0.008966311637777835, \"l\": -0.007917700510006398, \"value\": 0.0005243055638857186}, {\"date\": \"2015-07-12\", \"u\": 0.15581128280609846, \"l\": -0.13366684038192034, \"value\": 0.011072221212089062}, {\"date\": \"2015-07-13\", \"u\": 2.4026151299476624, \"l\": -2.0735859274864197, \"value\": 0.16451460123062134}, {\"date\": \"2015-07-14\", \"u\": 0.9458982832729816, \"l\": -0.87971056625247, \"value\": 0.033093858510255814}, {\"date\": \"2015-07-14\", \"u\": 0.039991904981434345, \"l\": -0.029991905204951763, \"value\": 0.004999999888241291}, {\"date\": \"2015-07-15\", \"u\": 0.029083656379953027, \"l\": -0.02584893419407308, \"value\": 0.0016173610929399729}, {\"date\": \"2015-07-16\", \"u\": 13.636002779006958, \"l\": -10.826218366622925, \"value\": 1.4048922061920166}, {\"date\": \"2015-07-16\", \"u\": 2.4501824975013733, \"l\": -1.8586158156394958, \"value\": 0.2957833409309387}, {\"date\": \"2015-07-17\", \"u\": 0.05635882751084864, \"l\": -0.05122827156446874, \"value\": 0.00256527797318995}, {\"date\": \"2015-07-18\", \"u\": 0.014943716232664883, \"l\": -0.012390938471071422, \"value\": 0.0012763888807967305}, {\"date\": \"2015-07-19\", \"u\": 0.5344301965087652, \"l\": -0.5017038080841303, \"value\": 0.016363194212317467}, {\"date\": \"2015-07-21\", \"u\": 5.6674849689006805, \"l\": -4.689271241426468, \"value\": 0.4891068637371063}, {\"date\": \"2015-07-22\", \"u\": 10.741047143936157, \"l\": -8.30587363243103, \"value\": 1.2175867557525635}, {\"date\": \"2015-07-23\", \"u\": 7.850644469261169, \"l\": -6.12496817111969, \"value\": 0.8628381490707397}, {\"date\": \"2015-07-24\", \"u\": 14.058926820755005, \"l\": -10.81832766532898, \"value\": 1.6202995777130127}, {\"date\": \"2015-07-25\", \"u\": 3.992128700017929, \"l\": -3.2773481905460358, \"value\": 0.35739025473594666}, {\"date\": \"2015-07-26\", \"u\": 0.055343045853078365, \"l\": -0.043665268458426, \"value\": 0.005838888697326183}, {\"date\": \"2015-07-27\", \"u\": 1.791161648929119, \"l\": -1.6172019317746162, \"value\": 0.08697985857725143}, {\"date\": \"2015-07-28\", \"u\": 0.48662479780614376, \"l\": -0.44765118695795536, \"value\": 0.0194868054240942}, {\"date\": \"2015-07-29\", \"u\": 0.010105327964993194, \"l\": -0.009331716893939301, \"value\": 0.0003868055355269462}, {\"date\": \"2015-07-30\", \"u\": 0.6335618104785681, \"l\": -0.5875034723430872, \"value\": 0.02302916906774044}, {\"date\": \"2015-07-31\", \"u\": 0.03583907173015177, \"l\": -0.03284462704323232, \"value\": 0.0014972223434597254}, {\"date\": \"2015-08-01\", \"u\": 0.009857310535153374, \"l\": -0.008932310534873977, \"value\": 0.0004625000001396984}];\n",
       "           "
      ],
      "text/plain": [
       "<IPython.core.display.Javascript object>"
      ]
     },
     "execution_count": 18,
     "metadata": {},
     "output_type": "execute_result"
    }
   ],
   "source": [
    "import json\n",
    "from IPython.display import Javascript\n",
    "#runs arbitrary javascript, client-side\n",
    "\n",
    "start_time = \"20150601\"\n",
    "end_time = \"20150801\"\n",
    "\n",
    "Javascript(\"\"\"\n",
    "           window.chart_data_temp={0};\n",
    "           window.chart_data_rh={1};\n",
    "           window.chart_data_precip={2};\n",
    "           \"\"\".format(NetCDFtoJSON(\"temp_mean\", start_time, end_time),\n",
    "                      NetCDFtoJSON(\"rh_mean\", start_time, end_time),\n",
    "                      NetCDFtoJSON(\"org_precip_rate_mean\", start_time, end_time)))"
   ]
  },
  {
   "cell_type": "markdown",
   "metadata": {},
   "source": [
    "# Load Javascript APIs and CSS\n",
    "\n",
    "We use D3 JS at (http://cdnjs.cloudflare.com/ajax/libs/d3/3.4.8/d3.min) and Metrics Graphics at (metricsgraphics.min)\n",
    "\n",
    "We load CSS for Metrics Graphics (metricsgraphics.css)\n"
   ]
  },
  {
   "cell_type": "code",
   "execution_count": 19,
   "metadata": {
    "collapsed": false
   },
   "outputs": [
    {
     "data": {
      "application/javascript": [
       "require.config({\n",
       "  paths: {\n",
       "      d3: '//cdnjs.cloudflare.com/ajax/libs/d3/3.4.8/d3.min',\n",
       "      mg: '//www.ncc.unesp.br/~winckler/metrics-graphics-2.7.0/dist/metricsgraphics.min',\n",
       "      scatter: '//www.ncc.unesp.br/~winckler/metrics-graphics-2.7.0/dist/scatter'\n",
       "  }\n",
       "});\n",
       "\n",
       "$('head').append('<link rel=\"stylesheet\" type=\"text/css\" href=\"css/metricsgraphics.css\">');\n",
       "$('head').append('<link rel=\"stylesheet\" type=\"text/css\" href=\"css/scatter-matrix.css\">');"
      ],
      "text/plain": [
       "<IPython.core.display.Javascript object>"
      ]
     },
     "metadata": {},
     "output_type": "display_data"
    }
   ],
   "source": [
    "%%javascript\n",
    "require.config({\n",
    "  paths: {\n",
    "      d3: '//cdnjs.cloudflare.com/ajax/libs/d3/3.4.8/d3.min',\n",
    "      mg: '//www.ncc.unesp.br/~winckler/metrics-graphics-2.7.0/dist/metricsgraphics.min',\n",
    "      scatter: '//www.ncc.unesp.br/~winckler/metrics-graphics-2.7.0/dist/scatter'\n",
    "  }\n",
    "});\n",
    "\n",
    "$('head').append('<link rel=\"stylesheet\" type=\"text/css\" href=\"css/metricsgraphics.css\">');\n",
    "$('head').append('<link rel=\"stylesheet\" type=\"text/css\" href=\"css/scatter-matrix.css\">');"
   ]
  },
  {
   "cell_type": "markdown",
   "metadata": {},
   "source": [
    "# Javascript Function to plot data\n",
    "\n",
    "We create tree `<div>` element for each graph\n",
    "* chart_temp \n",
    "* chart_rh\n",
    "* chart_precip\n"
   ]
  },
  {
   "cell_type": "code",
   "execution_count": 20,
   "metadata": {
    "collapsed": false
   },
   "outputs": [
    {
     "data": {
      "application/javascript": [
       "require(['d3', 'mg'], function(d3){\n",
       "\n",
       "  $(\".graph\").remove();\n",
       "  element.append(\"<div id='chart_temp' class='graph' style='float: left'></div>\");\n",
       "  element.append(\"<div id='chart_rh' class='graph' style='float: left'></div>\");\n",
       "  element.append(\"<div id='chart_precip' class='graph' style='float: left'></div>\");\n",
       "  element.append(\"<div id='chart_break' style='float: none; display: block; clear: both;'></div>\");\n",
       "  element.append(\"<div id='chart_scatter' class='graph' style=''></div>\");\n",
       "  $(\".graph\").width(\"480px\");\n",
       "  $(\".graph\").height(\"300px\");\n",
       "  $('#chart_scatter').width(\"945px\").height(\"730px\");\n",
       "\n",
       "  window.mg_data_temp = MG.convert.date(chart_data_temp, 'date');\n",
       "  window.mg_data_rh = MG.convert.date(chart_data_rh, 'date');\n",
       "  window.mg_data_precip = MG.convert.date(chart_data_precip, 'date');\n",
       "\n",
       "  function draw_graph(div, data, title) {\n",
       "      MG.data_graphic({\n",
       "        animate_on_load: true,\n",
       "        title: title,\n",
       "        description: \"This is a simple line chart.\",\n",
       "        data: data,\n",
       "        width: 480,\n",
       "        height: 300,\n",
       "        right: 40,\n",
       "        target: div,\n",
       "        x_accessor: 'date',\n",
       "        y_accessor: 'value',\n",
       "        min_y_from_data: true,\n",
       "        show_secondary_x_label: false,\n",
       "        show_confidence_band: ['l', 'u'],\n",
       "        area: false,\n",
       "        linked: true,\n",
       "        missing_is_hidden: true,\n",
       "    });\n",
       "  }\n",
       "   \n",
       "    draw_graph($('#chart_temp')[0], window.mg_data_temp, \"Temperature (C)\");\n",
       "    draw_graph($('#chart_rh')[0], window.mg_data_rh, \"Relative Humidity (%)\");\n",
       "    draw_graph($('#chart_precip')[0], window.mg_data_precip, \"Preciptation (mm/hour)\");\n",
       "    \n",
       "    // scatter\n",
       "    require(['scatter'], function(){\n",
       "        window.d3=d3;\n",
       "        var scatter_data=[];\n",
       "        for (var i in chart_data_temp) {\n",
       "            scatter_data = scatter_data.concat({temp: chart_data_temp[i].value,\n",
       "                                                rh: chart_data_rh[i].value,\n",
       "                                                precip: chart_data_precip[i].value});\n",
       "        }\n",
       "        \n",
       "        var sm = new ScatterMatrix(scatter_data, 'chart_scatter');\n",
       "        sm.render();\n",
       "        $('.scatter-matrix-control').css('float', 'right');\n",
       "        \n",
       "    });\n",
       "    \n",
       "})"
      ],
      "text/plain": [
       "<IPython.core.display.Javascript object>"
      ]
     },
     "metadata": {},
     "output_type": "display_data"
    }
   ],
   "source": [
    "%%javascript\n",
    "require(['d3', 'mg'], function(d3){\n",
    "\n",
    "  $(\".graph\").remove();\n",
    "  element.append(\"<div id='chart_temp' class='graph' style='float: left'></div>\");\n",
    "  element.append(\"<div id='chart_rh' class='graph' style='float: left'></div>\");\n",
    "  element.append(\"<div id='chart_precip' class='graph' style='float: left'></div>\");\n",
    "  element.append(\"<div id='chart_break' style='float: none; display: block; clear: both;'></div>\");\n",
    "  element.append(\"<div id='chart_scatter' class='graph' style=''></div>\");\n",
    "  $(\".graph\").width(\"480px\");\n",
    "  $(\".graph\").height(\"300px\");\n",
    "  $('#chart_scatter').width(\"945px\").height(\"730px\");\n",
    "\n",
    "  window.mg_data_temp = MG.convert.date(chart_data_temp, 'date');\n",
    "  window.mg_data_rh = MG.convert.date(chart_data_rh, 'date');\n",
    "  window.mg_data_precip = MG.convert.date(chart_data_precip, 'date');\n",
    "\n",
    "  function draw_graph(div, data, title) {\n",
    "      MG.data_graphic({\n",
    "        animate_on_load: true,\n",
    "        title: title,\n",
    "        description: \"This is a simple line chart.\",\n",
    "        data: data,\n",
    "        width: 480,\n",
    "        height: 300,\n",
    "        right: 40,\n",
    "        target: div,\n",
    "        x_accessor: 'date',\n",
    "        y_accessor: 'value',\n",
    "        min_y_from_data: true,\n",
    "        show_secondary_x_label: false,\n",
    "        show_confidence_band: ['l', 'u'],\n",
    "        area: false,\n",
    "        linked: true,\n",
    "        missing_is_hidden: true,\n",
    "    });\n",
    "  }\n",
    "   \n",
    "    draw_graph($('#chart_temp')[0], window.mg_data_temp, \"Temperature (C)\");\n",
    "    draw_graph($('#chart_rh')[0], window.mg_data_rh, \"Relative Humidity (%)\");\n",
    "    draw_graph($('#chart_precip')[0], window.mg_data_precip, \"Preciptation (mm/hour)\");\n",
    "    \n",
    "    // scatter\n",
    "    require(['scatter'], function(){\n",
    "        window.d3=d3;\n",
    "        var scatter_data=[];\n",
    "        for (var i in chart_data_temp) {\n",
    "            scatter_data = scatter_data.concat({temp: chart_data_temp[i].value,\n",
    "                                                rh: chart_data_rh[i].value,\n",
    "                                                precip: chart_data_precip[i].value});\n",
    "        }\n",
    "        \n",
    "        var sm = new ScatterMatrix(scatter_data, 'chart_scatter');\n",
    "        sm.render();\n",
    "        $('.scatter-matrix-control').css('float', 'right');\n",
    "        \n",
    "    });\n",
    "    \n",
    "})\n"
   ]
  }
 ],
 "metadata": {
  "kernelspec": {
   "display_name": "Python 2",
   "language": "python",
   "name": "python2"
  },
  "language_info": {
   "codemirror_mode": {
    "name": "ipython",
    "version": 2
   },
   "file_extension": ".py",
   "mimetype": "text/x-python",
   "name": "python",
   "nbconvert_exporter": "python",
   "pygments_lexer": "ipython2",
   "version": "2.7.10"
  }
 },
 "nbformat": 4,
 "nbformat_minor": 0
}
